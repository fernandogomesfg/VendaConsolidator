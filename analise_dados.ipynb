{
 "cells": [
  {
   "cell_type": "markdown",
   "metadata": {},
   "source": [
    "# Análise dos Dados Consolidado"
   ]
  },
  {
   "cell_type": "code",
   "execution_count": 2,
   "metadata": {},
   "outputs": [],
   "source": [
    "import pandas as pd"
   ]
  },
  {
   "cell_type": "markdown",
   "metadata": {},
   "source": [
    "## Carregando os dados da planilha consolidada"
   ]
  },
  {
   "cell_type": "code",
   "execution_count": 4,
   "metadata": {},
   "outputs": [],
   "source": [
    "df = pd.read_excel(\"data/Relatorio_05-2024.xlsx\")"
   ]
  },
  {
   "cell_type": "code",
   "execution_count": 6,
   "metadata": {},
   "outputs": [
    {
     "data": {
      "text/html": [
       "<div>\n",
       "<style scoped>\n",
       "    .dataframe tbody tr th:only-of-type {\n",
       "        vertical-align: middle;\n",
       "    }\n",
       "\n",
       "    .dataframe tbody tr th {\n",
       "        vertical-align: top;\n",
       "    }\n",
       "\n",
       "    .dataframe thead th {\n",
       "        text-align: right;\n",
       "    }\n",
       "</style>\n",
       "<table border=\"1\" class=\"dataframe\">\n",
       "  <thead>\n",
       "    <tr style=\"text-align: right;\">\n",
       "      <th></th>\n",
       "      <th>Tipo</th>\n",
       "      <th>Cidade</th>\n",
       "      <th>Produto</th>\n",
       "      <th>Qtde de Unidades Vendidas</th>\n",
       "      <th>Preço Unitário</th>\n",
       "      <th>Valor Total</th>\n",
       "      <th>Desconto</th>\n",
       "      <th>Valor Total c/ Desconto</th>\n",
       "      <th>Custo Total</th>\n",
       "      <th>Lucro</th>\n",
       "      <th>Data</th>\n",
       "      <th>Mês</th>\n",
       "      <th>Ano</th>\n",
       "    </tr>\n",
       "  </thead>\n",
       "  <tbody>\n",
       "    <tr>\n",
       "      <th>0</th>\n",
       "      <td>Governo</td>\n",
       "      <td>Beira</td>\n",
       "      <td>Produto 1</td>\n",
       "      <td>1618.5</td>\n",
       "      <td>20</td>\n",
       "      <td>32370.0</td>\n",
       "      <td>0.0</td>\n",
       "      <td>32370.0</td>\n",
       "      <td>17803.5</td>\n",
       "      <td>14566.5</td>\n",
       "      <td>2019-01-01</td>\n",
       "      <td>Janeiro</td>\n",
       "      <td>2019</td>\n",
       "    </tr>\n",
       "    <tr>\n",
       "      <th>1</th>\n",
       "      <td>Governo</td>\n",
       "      <td>Beira</td>\n",
       "      <td>Produto 3</td>\n",
       "      <td>292.0</td>\n",
       "      <td>20</td>\n",
       "      <td>5840.0</td>\n",
       "      <td>0.0</td>\n",
       "      <td>5840.0</td>\n",
       "      <td>2920.0</td>\n",
       "      <td>2920.0</td>\n",
       "      <td>2019-02-01</td>\n",
       "      <td>Fevereiro</td>\n",
       "      <td>2019</td>\n",
       "    </tr>\n",
       "    <tr>\n",
       "      <th>2</th>\n",
       "      <td>Governo</td>\n",
       "      <td>Beira</td>\n",
       "      <td>Produto 3</td>\n",
       "      <td>1725.0</td>\n",
       "      <td>350</td>\n",
       "      <td>603750.0</td>\n",
       "      <td>0.0</td>\n",
       "      <td>603750.0</td>\n",
       "      <td>448500.0</td>\n",
       "      <td>155250.0</td>\n",
       "      <td>2018-11-01</td>\n",
       "      <td>Novembro</td>\n",
       "      <td>2018</td>\n",
       "    </tr>\n",
       "    <tr>\n",
       "      <th>3</th>\n",
       "      <td>Governo</td>\n",
       "      <td>Beira</td>\n",
       "      <td>Produto 3</td>\n",
       "      <td>1817.0</td>\n",
       "      <td>20</td>\n",
       "      <td>36340.0</td>\n",
       "      <td>0.0</td>\n",
       "      <td>36340.0</td>\n",
       "      <td>18170.0</td>\n",
       "      <td>18170.0</td>\n",
       "      <td>2019-12-01</td>\n",
       "      <td>Dezembro</td>\n",
       "      <td>2019</td>\n",
       "    </tr>\n",
       "    <tr>\n",
       "      <th>4</th>\n",
       "      <td>Governo</td>\n",
       "      <td>Beira</td>\n",
       "      <td>Produto 5</td>\n",
       "      <td>1817.0</td>\n",
       "      <td>20</td>\n",
       "      <td>36340.0</td>\n",
       "      <td>0.0</td>\n",
       "      <td>36340.0</td>\n",
       "      <td>18170.0</td>\n",
       "      <td>18170.0</td>\n",
       "      <td>2019-12-01</td>\n",
       "      <td>Dezembro</td>\n",
       "      <td>2019</td>\n",
       "    </tr>\n",
       "  </tbody>\n",
       "</table>\n",
       "</div>"
      ],
      "text/plain": [
       "      Tipo Cidade    Produto  Qtde de Unidades Vendidas  Preço Unitário  \\\n",
       "0  Governo  Beira  Produto 1                     1618.5              20   \n",
       "1  Governo  Beira  Produto 3                      292.0              20   \n",
       "2  Governo  Beira  Produto 3                     1725.0             350   \n",
       "3  Governo  Beira  Produto 3                     1817.0              20   \n",
       "4  Governo  Beira  Produto 5                     1817.0              20   \n",
       "\n",
       "   Valor Total  Desconto  Valor Total c/ Desconto  Custo Total     Lucro  \\\n",
       "0      32370.0       0.0                  32370.0      17803.5   14566.5   \n",
       "1       5840.0       0.0                   5840.0       2920.0    2920.0   \n",
       "2     603750.0       0.0                 603750.0     448500.0  155250.0   \n",
       "3      36340.0       0.0                  36340.0      18170.0   18170.0   \n",
       "4      36340.0       0.0                  36340.0      18170.0   18170.0   \n",
       "\n",
       "        Data        Mês   Ano  \n",
       "0 2019-01-01    Janeiro  2019  \n",
       "1 2019-02-01  Fevereiro  2019  \n",
       "2 2018-11-01   Novembro  2018  \n",
       "3 2019-12-01   Dezembro  2019  \n",
       "4 2019-12-01   Dezembro  2019  "
      ]
     },
     "execution_count": 6,
     "metadata": {},
     "output_type": "execute_result"
    }
   ],
   "source": [
    "# Visualizar os primeiros valores do dataframe\n",
    "df.head()"
   ]
  },
  {
   "cell_type": "code",
   "execution_count": 7,
   "metadata": {},
   "outputs": [
    {
     "data": {
      "text/html": [
       "<div>\n",
       "<style scoped>\n",
       "    .dataframe tbody tr th:only-of-type {\n",
       "        vertical-align: middle;\n",
       "    }\n",
       "\n",
       "    .dataframe tbody tr th {\n",
       "        vertical-align: top;\n",
       "    }\n",
       "\n",
       "    .dataframe thead th {\n",
       "        text-align: right;\n",
       "    }\n",
       "</style>\n",
       "<table border=\"1\" class=\"dataframe\">\n",
       "  <thead>\n",
       "    <tr style=\"text-align: right;\">\n",
       "      <th></th>\n",
       "      <th>Tipo</th>\n",
       "      <th>Cidade</th>\n",
       "      <th>Produto</th>\n",
       "      <th>Qtde de Unidades Vendidas</th>\n",
       "      <th>Preço Unitário</th>\n",
       "      <th>Valor Total</th>\n",
       "      <th>Desconto</th>\n",
       "      <th>Valor Total c/ Desconto</th>\n",
       "      <th>Custo Total</th>\n",
       "      <th>Lucro</th>\n",
       "      <th>Data</th>\n",
       "      <th>Mês</th>\n",
       "      <th>Ano</th>\n",
       "    </tr>\n",
       "  </thead>\n",
       "  <tbody>\n",
       "    <tr>\n",
       "      <th>695</th>\n",
       "      <td>Vendas online</td>\n",
       "      <td>Pemba</td>\n",
       "      <td>Produto 3</td>\n",
       "      <td>2914.0</td>\n",
       "      <td>12</td>\n",
       "      <td>34968.0</td>\n",
       "      <td>4895.52</td>\n",
       "      <td>30072.48</td>\n",
       "      <td>8742.0</td>\n",
       "      <td>21330.48</td>\n",
       "      <td>2019-10-01</td>\n",
       "      <td>Outubro</td>\n",
       "      <td>2019</td>\n",
       "    </tr>\n",
       "    <tr>\n",
       "      <th>696</th>\n",
       "      <td>Vendas online</td>\n",
       "      <td>Pemba</td>\n",
       "      <td>Produto 6</td>\n",
       "      <td>2914.0</td>\n",
       "      <td>12</td>\n",
       "      <td>34968.0</td>\n",
       "      <td>4895.52</td>\n",
       "      <td>30072.48</td>\n",
       "      <td>8742.0</td>\n",
       "      <td>21330.48</td>\n",
       "      <td>2019-10-01</td>\n",
       "      <td>Outubro</td>\n",
       "      <td>2019</td>\n",
       "    </tr>\n",
       "    <tr>\n",
       "      <th>697</th>\n",
       "      <td>Vendas online</td>\n",
       "      <td>Pemba</td>\n",
       "      <td>Produto 3</td>\n",
       "      <td>914.0</td>\n",
       "      <td>12</td>\n",
       "      <td>10968.0</td>\n",
       "      <td>1645.20</td>\n",
       "      <td>9322.80</td>\n",
       "      <td>2742.0</td>\n",
       "      <td>6580.80</td>\n",
       "      <td>2019-12-01</td>\n",
       "      <td>Dezembro</td>\n",
       "      <td>2019</td>\n",
       "    </tr>\n",
       "    <tr>\n",
       "      <th>698</th>\n",
       "      <td>Vendas online</td>\n",
       "      <td>Pemba</td>\n",
       "      <td>Produto 4</td>\n",
       "      <td>914.0</td>\n",
       "      <td>12</td>\n",
       "      <td>10968.0</td>\n",
       "      <td>1645.20</td>\n",
       "      <td>9322.80</td>\n",
       "      <td>2742.0</td>\n",
       "      <td>6580.80</td>\n",
       "      <td>2019-12-01</td>\n",
       "      <td>Dezembro</td>\n",
       "      <td>2019</td>\n",
       "    </tr>\n",
       "    <tr>\n",
       "      <th>699</th>\n",
       "      <td>Vendas online</td>\n",
       "      <td>Pemba</td>\n",
       "      <td>Produto 5</td>\n",
       "      <td>1806.0</td>\n",
       "      <td>12</td>\n",
       "      <td>21672.0</td>\n",
       "      <td>3250.80</td>\n",
       "      <td>18421.20</td>\n",
       "      <td>5418.0</td>\n",
       "      <td>13003.20</td>\n",
       "      <td>2019-05-01</td>\n",
       "      <td>Maio</td>\n",
       "      <td>2019</td>\n",
       "    </tr>\n",
       "  </tbody>\n",
       "</table>\n",
       "</div>"
      ],
      "text/plain": [
       "              Tipo Cidade    Produto  Qtde de Unidades Vendidas  \\\n",
       "695  Vendas online  Pemba  Produto 3                     2914.0   \n",
       "696  Vendas online  Pemba  Produto 6                     2914.0   \n",
       "697  Vendas online  Pemba  Produto 3                      914.0   \n",
       "698  Vendas online  Pemba  Produto 4                      914.0   \n",
       "699  Vendas online  Pemba  Produto 5                     1806.0   \n",
       "\n",
       "     Preço Unitário  Valor Total  Desconto  Valor Total c/ Desconto  \\\n",
       "695              12      34968.0   4895.52                 30072.48   \n",
       "696              12      34968.0   4895.52                 30072.48   \n",
       "697              12      10968.0   1645.20                  9322.80   \n",
       "698              12      10968.0   1645.20                  9322.80   \n",
       "699              12      21672.0   3250.80                 18421.20   \n",
       "\n",
       "     Custo Total     Lucro       Data       Mês   Ano  \n",
       "695       8742.0  21330.48 2019-10-01   Outubro  2019  \n",
       "696       8742.0  21330.48 2019-10-01   Outubro  2019  \n",
       "697       2742.0   6580.80 2019-12-01  Dezembro  2019  \n",
       "698       2742.0   6580.80 2019-12-01  Dezembro  2019  \n",
       "699       5418.0  13003.20 2019-05-01      Maio  2019  "
      ]
     },
     "execution_count": 7,
     "metadata": {},
     "output_type": "execute_result"
    }
   ],
   "source": [
    "# Visualizar os ultimos valores do dataframe\n",
    "df.tail()"
   ]
  },
  {
   "cell_type": "code",
   "execution_count": 20,
   "metadata": {},
   "outputs": [
    {
     "data": {
      "text/plain": [
       "(700, 13)"
      ]
     },
     "execution_count": 20,
     "metadata": {},
     "output_type": "execute_result"
    }
   ],
   "source": [
    "# numero de linhas e colunas\n",
    "df.shape"
   ]
  },
  {
   "cell_type": "markdown",
   "metadata": {},
   "source": [
    "## Verificando o tipo de dados das colunas do DataFrame"
   ]
  },
  {
   "cell_type": "code",
   "execution_count": 9,
   "metadata": {},
   "outputs": [
    {
     "name": "stdout",
     "output_type": "stream",
     "text": [
      "<class 'pandas.core.frame.DataFrame'>\n",
      "RangeIndex: 700 entries, 0 to 699\n",
      "Data columns (total 13 columns):\n",
      " #   Column                     Non-Null Count  Dtype         \n",
      "---  ------                     --------------  -----         \n",
      " 0   Tipo                       700 non-null    object        \n",
      " 1   Cidade                     700 non-null    object        \n",
      " 2   Produto                    700 non-null    object        \n",
      " 3   Qtde de Unidades Vendidas  700 non-null    float64       \n",
      " 4   Preço Unitário             700 non-null    int64         \n",
      " 5   Valor Total                700 non-null    float64       \n",
      " 6   Desconto                   700 non-null    float64       \n",
      " 7   Valor Total c/ Desconto    700 non-null    float64       \n",
      " 8   Custo Total                700 non-null    float64       \n",
      " 9   Lucro                      700 non-null    float64       \n",
      " 10  Data                       700 non-null    datetime64[ns]\n",
      " 11  Mês                        700 non-null    object        \n",
      " 12  Ano                        700 non-null    int64         \n",
      "dtypes: datetime64[ns](1), float64(6), int64(2), object(4)\n",
      "memory usage: 71.2+ KB\n"
     ]
    }
   ],
   "source": [
    "df.info()"
   ]
  },
  {
   "cell_type": "markdown",
   "metadata": {},
   "source": [
    "## Acessando Colunas individualmente"
   ]
  },
  {
   "cell_type": "code",
   "execution_count": 10,
   "metadata": {},
   "outputs": [
    {
     "data": {
      "text/html": [
       "<div>\n",
       "<style scoped>\n",
       "    .dataframe tbody tr th:only-of-type {\n",
       "        vertical-align: middle;\n",
       "    }\n",
       "\n",
       "    .dataframe tbody tr th {\n",
       "        vertical-align: top;\n",
       "    }\n",
       "\n",
       "    .dataframe thead th {\n",
       "        text-align: right;\n",
       "    }\n",
       "</style>\n",
       "<table border=\"1\" class=\"dataframe\">\n",
       "  <thead>\n",
       "    <tr style=\"text-align: right;\">\n",
       "      <th></th>\n",
       "      <th>Tipo</th>\n",
       "      <th>Cidade</th>\n",
       "      <th>Produto</th>\n",
       "      <th>Qtde de Unidades Vendidas</th>\n",
       "      <th>Preço Unitário</th>\n",
       "      <th>Valor Total</th>\n",
       "      <th>Desconto</th>\n",
       "      <th>Valor Total c/ Desconto</th>\n",
       "      <th>Custo Total</th>\n",
       "      <th>Lucro</th>\n",
       "      <th>Data</th>\n",
       "      <th>Mês</th>\n",
       "      <th>Ano</th>\n",
       "    </tr>\n",
       "  </thead>\n",
       "  <tbody>\n",
       "    <tr>\n",
       "      <th>0</th>\n",
       "      <td>Governo</td>\n",
       "      <td>Beira</td>\n",
       "      <td>Produto 1</td>\n",
       "      <td>1618.5</td>\n",
       "      <td>20</td>\n",
       "      <td>32370.0</td>\n",
       "      <td>0.0</td>\n",
       "      <td>32370.0</td>\n",
       "      <td>17803.5</td>\n",
       "      <td>14566.5</td>\n",
       "      <td>2019-01-01</td>\n",
       "      <td>Janeiro</td>\n",
       "      <td>2019</td>\n",
       "    </tr>\n",
       "    <tr>\n",
       "      <th>1</th>\n",
       "      <td>Governo</td>\n",
       "      <td>Beira</td>\n",
       "      <td>Produto 3</td>\n",
       "      <td>292.0</td>\n",
       "      <td>20</td>\n",
       "      <td>5840.0</td>\n",
       "      <td>0.0</td>\n",
       "      <td>5840.0</td>\n",
       "      <td>2920.0</td>\n",
       "      <td>2920.0</td>\n",
       "      <td>2019-02-01</td>\n",
       "      <td>Fevereiro</td>\n",
       "      <td>2019</td>\n",
       "    </tr>\n",
       "    <tr>\n",
       "      <th>2</th>\n",
       "      <td>Governo</td>\n",
       "      <td>Beira</td>\n",
       "      <td>Produto 3</td>\n",
       "      <td>1725.0</td>\n",
       "      <td>350</td>\n",
       "      <td>603750.0</td>\n",
       "      <td>0.0</td>\n",
       "      <td>603750.0</td>\n",
       "      <td>448500.0</td>\n",
       "      <td>155250.0</td>\n",
       "      <td>2018-11-01</td>\n",
       "      <td>Novembro</td>\n",
       "      <td>2018</td>\n",
       "    </tr>\n",
       "    <tr>\n",
       "      <th>3</th>\n",
       "      <td>Governo</td>\n",
       "      <td>Beira</td>\n",
       "      <td>Produto 3</td>\n",
       "      <td>1817.0</td>\n",
       "      <td>20</td>\n",
       "      <td>36340.0</td>\n",
       "      <td>0.0</td>\n",
       "      <td>36340.0</td>\n",
       "      <td>18170.0</td>\n",
       "      <td>18170.0</td>\n",
       "      <td>2019-12-01</td>\n",
       "      <td>Dezembro</td>\n",
       "      <td>2019</td>\n",
       "    </tr>\n",
       "    <tr>\n",
       "      <th>4</th>\n",
       "      <td>Governo</td>\n",
       "      <td>Beira</td>\n",
       "      <td>Produto 5</td>\n",
       "      <td>1817.0</td>\n",
       "      <td>20</td>\n",
       "      <td>36340.0</td>\n",
       "      <td>0.0</td>\n",
       "      <td>36340.0</td>\n",
       "      <td>18170.0</td>\n",
       "      <td>18170.0</td>\n",
       "      <td>2019-12-01</td>\n",
       "      <td>Dezembro</td>\n",
       "      <td>2019</td>\n",
       "    </tr>\n",
       "  </tbody>\n",
       "</table>\n",
       "</div>"
      ],
      "text/plain": [
       "      Tipo Cidade    Produto  Qtde de Unidades Vendidas  Preço Unitário  \\\n",
       "0  Governo  Beira  Produto 1                     1618.5              20   \n",
       "1  Governo  Beira  Produto 3                      292.0              20   \n",
       "2  Governo  Beira  Produto 3                     1725.0             350   \n",
       "3  Governo  Beira  Produto 3                     1817.0              20   \n",
       "4  Governo  Beira  Produto 5                     1817.0              20   \n",
       "\n",
       "   Valor Total  Desconto  Valor Total c/ Desconto  Custo Total     Lucro  \\\n",
       "0      32370.0       0.0                  32370.0      17803.5   14566.5   \n",
       "1       5840.0       0.0                   5840.0       2920.0    2920.0   \n",
       "2     603750.0       0.0                 603750.0     448500.0  155250.0   \n",
       "3      36340.0       0.0                  36340.0      18170.0   18170.0   \n",
       "4      36340.0       0.0                  36340.0      18170.0   18170.0   \n",
       "\n",
       "        Data        Mês   Ano  \n",
       "0 2019-01-01    Janeiro  2019  \n",
       "1 2019-02-01  Fevereiro  2019  \n",
       "2 2018-11-01   Novembro  2018  \n",
       "3 2019-12-01   Dezembro  2019  \n",
       "4 2019-12-01   Dezembro  2019  "
      ]
     },
     "execution_count": 10,
     "metadata": {},
     "output_type": "execute_result"
    }
   ],
   "source": [
    "df.head()"
   ]
  },
  {
   "cell_type": "code",
   "execution_count": 15,
   "metadata": {},
   "outputs": [
    {
     "data": {
      "text/plain": [
       "0            Governo\n",
       "1            Governo\n",
       "2            Governo\n",
       "3            Governo\n",
       "4            Governo\n",
       "           ...      \n",
       "695    Vendas online\n",
       "696    Vendas online\n",
       "697    Vendas online\n",
       "698    Vendas online\n",
       "699    Vendas online\n",
       "Name: Tipo, Length: 700, dtype: object"
      ]
     },
     "execution_count": 15,
     "metadata": {},
     "output_type": "execute_result"
    }
   ],
   "source": [
    "# Coluna Tipo\n",
    "df['Tipo']"
   ]
  },
  {
   "cell_type": "code",
   "execution_count": 16,
   "metadata": {},
   "outputs": [
    {
     "data": {
      "text/plain": [
       "0      Produto 1\n",
       "1      Produto 3\n",
       "2      Produto 3\n",
       "3      Produto 3\n",
       "4      Produto 5\n",
       "         ...    \n",
       "695    Produto 3\n",
       "696    Produto 6\n",
       "697    Produto 3\n",
       "698    Produto 4\n",
       "699    Produto 5\n",
       "Name: Produto, Length: 700, dtype: object"
      ]
     },
     "execution_count": 16,
     "metadata": {},
     "output_type": "execute_result"
    }
   ],
   "source": [
    "# Coluna Produto\n",
    "df['Produto']"
   ]
  },
  {
   "cell_type": "code",
   "execution_count": 18,
   "metadata": {},
   "outputs": [
    {
     "data": {
      "text/plain": [
       "0         0.00\n",
       "1         0.00\n",
       "2         0.00\n",
       "3         0.00\n",
       "4         0.00\n",
       "        ...   \n",
       "695    4895.52\n",
       "696    4895.52\n",
       "697    1645.20\n",
       "698    1645.20\n",
       "699    3250.80\n",
       "Name: Desconto, Length: 700, dtype: float64"
      ]
     },
     "execution_count": 18,
     "metadata": {},
     "output_type": "execute_result"
    }
   ],
   "source": [
    "df.Desconto"
   ]
  },
  {
   "cell_type": "markdown",
   "metadata": {},
   "source": [
    "## Alterando o nome das colunas do DataFrame"
   ]
  },
  {
   "cell_type": "code",
   "execution_count": 27,
   "metadata": {},
   "outputs": [],
   "source": [
    "colunas = ['tipo', 'cidade', 'produto', 'qtd_unidades_vendidas', 'preco_unitario', 'valor_total', 'desconto',\n",
    "           'valor_total_desconto', 'custo_total', 'lucro', 'data', 'mes', 'ano']"
   ]
  },
  {
   "cell_type": "code",
   "execution_count": 29,
   "metadata": {},
   "outputs": [
    {
     "data": {
      "text/plain": [
       "Index(['Tipo', 'Cidade', 'Produto', 'Qtde de Unidades Vendidas',\n",
       "       'Preço Unitário', 'Valor Total', 'Desconto', 'Valor Total c/ Desconto',\n",
       "       'Custo Total', 'Lucro', 'Data', 'Mês', 'Ano'],\n",
       "      dtype='object')"
      ]
     },
     "execution_count": 29,
     "metadata": {},
     "output_type": "execute_result"
    }
   ],
   "source": [
    "df.columns"
   ]
  },
  {
   "cell_type": "code",
   "execution_count": 30,
   "metadata": {},
   "outputs": [],
   "source": [
    "df.columns = colunas"
   ]
  },
  {
   "cell_type": "code",
   "execution_count": 31,
   "metadata": {},
   "outputs": [
    {
     "data": {
      "text/plain": [
       "Index(['tipo', 'cidade', 'produto', 'qtd_unidades_vendidas', 'preco_unitario',\n",
       "       'valor_total', 'desconto', 'valor_total_desconto', 'custo_total',\n",
       "       'lucro', 'data', 'mes', 'ano'],\n",
       "      dtype='object')"
      ]
     },
     "execution_count": 31,
     "metadata": {},
     "output_type": "execute_result"
    }
   ],
   "source": [
    "df.columns"
   ]
  },
  {
   "cell_type": "code",
   "execution_count": 32,
   "metadata": {},
   "outputs": [
    {
     "data": {
      "text/plain": [
       "0            Governo\n",
       "1            Governo\n",
       "2            Governo\n",
       "3            Governo\n",
       "4            Governo\n",
       "           ...      \n",
       "695    Vendas online\n",
       "696    Vendas online\n",
       "697    Vendas online\n",
       "698    Vendas online\n",
       "699    Vendas online\n",
       "Name: tipo, Length: 700, dtype: object"
      ]
     },
     "execution_count": 32,
     "metadata": {},
     "output_type": "execute_result"
    }
   ],
   "source": [
    "df.tipo"
   ]
  },
  {
   "cell_type": "code",
   "execution_count": 33,
   "metadata": {},
   "outputs": [
    {
     "data": {
      "text/plain": [
       "0      Produto 1\n",
       "1      Produto 3\n",
       "2      Produto 3\n",
       "3      Produto 3\n",
       "4      Produto 5\n",
       "         ...    \n",
       "695    Produto 3\n",
       "696    Produto 6\n",
       "697    Produto 3\n",
       "698    Produto 4\n",
       "699    Produto 5\n",
       "Name: produto, Length: 700, dtype: object"
      ]
     },
     "execution_count": 33,
     "metadata": {},
     "output_type": "execute_result"
    }
   ],
   "source": [
    "df.produto"
   ]
  },
  {
   "cell_type": "code",
   "execution_count": null,
   "metadata": {},
   "outputs": [],
   "source": []
  }
 ],
 "metadata": {
  "kernelspec": {
   "display_name": "venv",
   "language": "python",
   "name": "python3"
  },
  "language_info": {
   "codemirror_mode": {
    "name": "ipython",
    "version": 3
   },
   "file_extension": ".py",
   "mimetype": "text/x-python",
   "name": "python",
   "nbconvert_exporter": "python",
   "pygments_lexer": "ipython3",
   "version": "3.10.9"
  }
 },
 "nbformat": 4,
 "nbformat_minor": 2
}
